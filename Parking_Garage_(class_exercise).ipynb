{
  "nbformat": 4,
  "nbformat_minor": 0,
  "metadata": {
    "colab": {
      "provenance": [],
      "authorship_tag": "ABX9TyPYuNoI3NR71i53Qvu5pn7z",
      "include_colab_link": true
    },
    "kernelspec": {
      "name": "python3",
      "display_name": "Python 3"
    },
    "language_info": {
      "name": "python"
    }
  },
  "cells": [
    {
      "cell_type": "markdown",
      "metadata": {
        "id": "view-in-github",
        "colab_type": "text"
      },
      "source": [
        "<a href=\"https://colab.research.google.com/github/M0Corp/Assignment-1/blob/main/Parking_Garage_(class_exercise).ipynb\" target=\"_parent\"><img src=\"https://colab.research.google.com/assets/colab-badge.svg\" alt=\"Open In Colab\"/></a>"
      ]
    },
    {
      "cell_type": "markdown",
      "source": [
        "Parking garage charges $5 plus $2.5 for each hour parked. Mimimum fee is $10 and the max fee is $20. Write a program that generates a table with hours parked and the corresponsding fee, from 1 to 8 hours"
      ],
      "metadata": {
        "id": "pA2UprbW1KdM"
      }
    },
    {
      "cell_type": "code",
      "source": [
        "\n",
        "for hour in range (1, 9):\n",
        "  price = (hour*2.5)+5\n",
        "  if price <= 10:\n",
        "    price =10\n",
        "  if price >= 20:\n",
        "    price = 20\n",
        "  print ('Hours', hour, '- $', price)\n"
      ],
      "metadata": {
        "colab": {
          "base_uri": "https://localhost:8080/"
        },
        "id": "GMholwgX2Cmo",
        "outputId": "96794f1d-dcd1-4916-d4ae-fe4c02bf5435"
      },
      "execution_count": null,
      "outputs": [
        {
          "output_type": "stream",
          "name": "stdout",
          "text": [
            "Hours 1 - $ 10\n",
            "Hours 2 - $ 10\n",
            "Hours 3 - $ 12.5\n",
            "Hours 4 - $ 15.0\n",
            "Hours 5 - $ 17.5\n",
            "Hours 6 - $ 20\n",
            "Hours 7 - $ 20\n",
            "Hours 8 - $ 20\n"
          ]
        }
      ]
    },
    {
      "cell_type": "code",
      "execution_count": null,
      "metadata": {
        "id": "3hH7Qp6L1E7-"
      },
      "outputs": [],
      "source": []
    },
    {
      "cell_type": "markdown",
      "source": [
        "Movie theather ex. Each ticket is $10. Without ads, 20 people are expected to attend. Additional people may attendn based on advertising estimated to be;\n",
        "additonal = 2*round(dollars**.5). In additonal there's a $200 fixed cost"
      ],
      "metadata": {
        "id": "i2eOIpoi77OZ"
      }
    },
    {
      "cell_type": "code",
      "source": [
        "x=10\n",
        "a=20\n",
        "f=200\n",
        "for n in range (0,201, 25):\n",
        "  additional = 2*round(n**.5)\n",
        "  revenue = (additional + a)*x-f-n\n",
        "  print (n, revenue)"
      ],
      "metadata": {
        "id": "1f2pZb6a9Dgs",
        "colab": {
          "base_uri": "https://localhost:8080/"
        },
        "outputId": "e430e05b-c70b-49ab-9953-66893fcca90f"
      },
      "execution_count": null,
      "outputs": [
        {
          "output_type": "stream",
          "name": "stdout",
          "text": [
            "0 0\n",
            "25 75\n",
            "50 90\n",
            "75 105\n",
            "100 100\n",
            "125 95\n",
            "150 90\n",
            "175 85\n",
            "200 80\n"
          ]
        }
      ]
    },
    {
      "cell_type": "code",
      "source": [],
      "metadata": {
        "id": "AlHjLxpd8bsi"
      },
      "execution_count": null,
      "outputs": []
    },
    {
      "cell_type": "code",
      "source": [
        "down = 100000\n",
        "deposit = 1000\n",
        "amount = 5000\n",
        "n_months = 0\n",
        "\n",
        "while deposit < down:\n",
        "  deposit = deposit + amount\n",
        "  n_months = n_months + 1\n",
        "  print (deposit, n_months)"
      ],
      "metadata": {
        "colab": {
          "base_uri": "https://localhost:8080/"
        },
        "id": "9S0949d6QRD2",
        "outputId": "816eaafd-f277-44b4-8f5f-5a8288ac5231"
      },
      "execution_count": null,
      "outputs": [
        {
          "output_type": "stream",
          "name": "stdout",
          "text": [
            "6000 1\n",
            "11000 2\n",
            "16000 3\n",
            "21000 4\n",
            "26000 5\n",
            "31000 6\n",
            "36000 7\n",
            "41000 8\n",
            "46000 9\n",
            "51000 10\n",
            "56000 11\n",
            "61000 12\n",
            "66000 13\n",
            "71000 14\n",
            "76000 15\n",
            "81000 16\n",
            "86000 17\n",
            "91000 18\n",
            "96000 19\n",
            "101000 20\n"
          ]
        }
      ]
    }
  ]
}