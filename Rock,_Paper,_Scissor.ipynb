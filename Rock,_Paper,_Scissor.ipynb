{
  "nbformat": 4,
  "nbformat_minor": 0,
  "metadata": {
    "colab": {
      "provenance": [],
      "authorship_tag": "ABX9TyNRlceG8+OMT5bt8zbzVlm3",
      "include_colab_link": true
    },
    "kernelspec": {
      "name": "python3",
      "display_name": "Python 3"
    },
    "language_info": {
      "name": "python"
    }
  },
  "cells": [
    {
      "cell_type": "markdown",
      "metadata": {
        "id": "view-in-github",
        "colab_type": "text"
      },
      "source": [
        "<a href=\"https://colab.research.google.com/github/M0Corp/Assignment-1/blob/main/Rock%2C_Paper%2C_Scissor.ipynb\" target=\"_parent\"><img src=\"https://colab.research.google.com/assets/colab-badge.svg\" alt=\"Open In Colab\"/></a>"
      ]
    },
    {
      "cell_type": "code",
      "execution_count": null,
      "metadata": {
        "id": "2lCAmlGREvrb",
        "colab": {
          "base_uri": "https://localhost:8080/"
        },
        "outputId": "cfbe657a-0a34-4138-d628-04e736b069fa"
      },
      "outputs": [
        {
          "name": "stdout",
          "output_type": "stream",
          "text": [
            "Do you want to play the game y/n - y\n",
            "Enter rock, paper, or scissors: paper\n",
            "player loses! player chose paper and computer chose scissors\n",
            "Do you want to play the game y/n - y\n",
            "Enter rock, paper, or scissors: rock\n",
            "player loses! player chose rock and computer chose paper\n",
            "Do you want to play the game y/n - n\n"
          ]
        }
      ],
      "source": [
        "import random\n",
        "\n",
        "userinput= input('Do you want to play the game y/n - ')\n",
        "while userinput == \"y\":\n",
        "  Player = input(\"Enter rock, paper, or scissors: \")\n",
        "  Pc = random.choice(['rock','paper','scissors'])\n",
        "\n",
        "  if Player == Pc:\n",
        "    print(f\"Tie! player chose {Player} and computer chose {Pc}\")\n",
        "  elif Player == \"rock\" and Pc == \"scissors\" or Player == \"paper\" and Pc == \"rock\" or Player == \"scissors\" and Pc == \"paper\":\n",
        "    print(f\"player wins! player chose {Player} and computer chose {Pc}\")\n",
        "  else:\n",
        "    print(f\"player loses! player chose {Player} and computer chose {Pc}\")\n",
        "  userinput = input('Do you want to play the game y/n - ')"
      ]
    },
    {
      "cell_type": "code",
      "source": [],
      "metadata": {
        "id": "0LFV5TIhM-HC"
      },
      "execution_count": null,
      "outputs": []
    }
  ]
}