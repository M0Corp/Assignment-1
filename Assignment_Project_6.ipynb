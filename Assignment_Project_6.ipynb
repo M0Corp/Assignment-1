{
  "nbformat": 4,
  "nbformat_minor": 0,
  "metadata": {
    "colab": {
      "provenance": [],
      "authorship_tag": "ABX9TyN4Ii/ussMeBzh+my+9simc",
      "include_colab_link": true
    },
    "kernelspec": {
      "name": "python3",
      "display_name": "Python 3"
    },
    "language_info": {
      "name": "python"
    }
  },
  "cells": [
    {
      "cell_type": "markdown",
      "metadata": {
        "id": "view-in-github",
        "colab_type": "text"
      },
      "source": [
        "<a href=\"https://colab.research.google.com/github/M0Corp/Assignment-1/blob/main/Assignment_Project_6.ipynb\" target=\"_parent\"><img src=\"https://colab.research.google.com/assets/colab-badge.svg\" alt=\"Open In Colab\"/></a>"
      ]
    },
    {
      "cell_type": "code",
      "execution_count": 4,
      "metadata": {
        "colab": {
          "base_uri": "https://localhost:8080/"
        },
        "id": "mzcvCHgEEFI-",
        "outputId": "b45f96e7-03fc-4500-fe29-95ad91916e4c"
      },
      "outputs": [
        {
          "output_type": "stream",
          "name": "stdout",
          "text": [
            "Enter a value: 5\n",
            "Enter a value: 3\n",
            "Enter a value: 6\n",
            "Enter a value: 0\n",
            "[5, 3, 6]\n"
          ]
        }
      ],
      "source": [
        "a = 1\n",
        "L = []\n",
        "\n",
        "a = int(input('Enter a value: '))\n",
        "while a !=0:\n",
        "  L.append(a)\n",
        "  a = int(input('Enter a value: '))\n",
        "print(L)"
      ]
    }
  ]
}