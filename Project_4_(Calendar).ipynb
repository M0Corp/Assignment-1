{
  "nbformat": 4,
  "nbformat_minor": 0,
  "metadata": {
    "colab": {
      "provenance": [],
      "authorship_tag": "ABX9TyOLc10Ioi4Up9IDc0I7HD9A",
      "include_colab_link": true
    },
    "kernelspec": {
      "name": "python3",
      "display_name": "Python 3"
    },
    "language_info": {
      "name": "python"
    }
  },
  "cells": [
    {
      "cell_type": "markdown",
      "metadata": {
        "id": "view-in-github",
        "colab_type": "text"
      },
      "source": [
        "<a href=\"https://colab.research.google.com/github/M0Corp/Assignment-1/blob/main/Project_4_(Calendar).ipynb\" target=\"_parent\"><img src=\"https://colab.research.google.com/assets/colab-badge.svg\" alt=\"Open In Colab\"/></a>"
      ]
    },
    {
      "cell_type": "code",
      "execution_count": 12,
      "metadata": {
        "colab": {
          "base_uri": "https://localhost:8080/"
        },
        "id": "EgIe1uhT--o2",
        "outputId": "64d5c747-1295-4644-a941-9134d2092613"
      },
      "outputs": [
        {
          "output_type": "stream",
          "name": "stdout",
          "text": [
            "Enter date (MM/DD/YYYY): 02/21/2024\n",
            "02/21/2024\n",
            "Month is: 02\n",
            "Day is: 21\n",
            "Year is: 2024\n"
          ]
        }
      ],
      "source": [
        "userinput = input('Enter date (MM/DD/YYYY): ')\n",
        "print(userinput)\n",
        "month = userinput [0:2]\n",
        "day = userinput [3:5]\n",
        "year = userinput [6:10]\n",
        "print('Month is:', month)\n",
        "print('Day is:', day)\n",
        "print('Year is:', year)"
      ]
    }
  ]
}