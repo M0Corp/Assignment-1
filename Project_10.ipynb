{
  "nbformat": 4,
  "nbformat_minor": 0,
  "metadata": {
    "colab": {
      "provenance": [],
      "authorship_tag": "ABX9TyNQ/EgL9mmEb7VkjjlOkuft",
      "include_colab_link": true
    },
    "kernelspec": {
      "name": "python3",
      "display_name": "Python 3"
    },
    "language_info": {
      "name": "python"
    }
  },
  "cells": [
    {
      "cell_type": "markdown",
      "metadata": {
        "id": "view-in-github",
        "colab_type": "text"
      },
      "source": [
        "<a href=\"https://colab.research.google.com/github/M0Corp/Assignment-1/blob/main/Project_10.ipynb\" target=\"_parent\"><img src=\"https://colab.research.google.com/assets/colab-badge.svg\" alt=\"Open In Colab\"/></a>"
      ]
    },
    {
      "cell_type": "code",
      "execution_count": 12,
      "metadata": {
        "colab": {
          "base_uri": "https://localhost:8080/"
        },
        "id": "NQEQt35EJRIk",
        "outputId": "1b143390-27d5-41d2-fb87-fa187f5d0d92"
      },
      "outputs": [
        {
          "output_type": "stream",
          "name": "stdout",
          "text": [
            "5.0\n",
            "7.0710678118654755\n"
          ]
        }
      ],
      "source": [
        "class Point:\n",
        "  def __init__(self, x, y):\n",
        "    self.x = x\n",
        "    self.y = y\n",
        "  def distance(self, other):\n",
        "    x_diff = (self.x - other.x) ** 2\n",
        "    y_diff = (self.y - other.y) ** 2\n",
        "    return (x_diff + y_diff) ** 0.5\n",
        "\n",
        "class Point3D(Point):\n",
        "  def __init__(self, x, y, z):\n",
        "    super().__init__(x, y)\n",
        "    self.z = z\n",
        "  def distance(self, other):\n",
        "    x_diff = (self.x - other.x) ** 2\n",
        "    y_diff = (self.y - other.y) ** 2\n",
        "    z_diff = (self.z - other.z) ** 2\n",
        "    return (x_diff + y_diff + z_diff) ** 0.5\n",
        "\n",
        "p1 = Point(3,4)\n",
        "p2 = Point(6,8)\n",
        "print(p1.distance(p2))\n",
        "\n",
        "p3d_1 = Point3D(3, 4, 5)\n",
        "p3d_2 = Point3D(6, 8, 10)\n",
        "print(p3d_1.distance(p3d_2))"
      ]
    },
    {
      "cell_type": "code",
      "source": [
        "class Animal:\n",
        "  def __init__(self, legs):\n",
        "    self.legs = legs\n",
        "    print('Animal created')\n",
        "  def whoAmI(self):\n",
        "    print('I am an animal')\n",
        "\n",
        "class Bird(Animal):\n",
        "  def __init__(self, legs, wings):\n",
        "    super().__init__(legs)\n",
        "    self.wings = wings\n",
        "    print('Bird created')\n",
        "  def fly(self):\n",
        "    print('Birds can fly')\n",
        "\n",
        "a = Animal(4)\n",
        "b = Bird(2, 2)"
      ],
      "metadata": {
        "colab": {
          "base_uri": "https://localhost:8080/"
        },
        "id": "WEOG9VrrNsI5",
        "outputId": "1e040024-35bc-4020-9065-327328ca1607"
      },
      "execution_count": 8,
      "outputs": [
        {
          "output_type": "stream",
          "name": "stdout",
          "text": [
            "Animal created\n",
            "Animal created\n",
            "Bird created\n"
          ]
        }
      ]
    }
  ]
}